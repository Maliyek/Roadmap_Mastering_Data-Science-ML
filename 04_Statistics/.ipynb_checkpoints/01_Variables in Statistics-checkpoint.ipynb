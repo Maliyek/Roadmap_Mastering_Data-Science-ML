{
 "cells": [
  {
   "cell_type": "markdown",
   "id": "fbc853bb",
   "metadata": {},
   "source": [
    "# Variables in Statistics\n",
    "\n",
    "Watch the video at 1.5x speed for better experience."
   ]
  },
  {
   "cell_type": "code",
   "execution_count": null,
   "id": "922ac502",
   "metadata": {},
   "outputs": [],
   "source": [
    "a = 10\n",
    "\n",
    "age = [21,23,25]\n",
    "\n",
    "color = \"red\""
   ]
  },
  {
   "cell_type": "code",
   "execution_count": null,
   "id": "d219277f",
   "metadata": {},
   "outputs": [],
   "source": [
    "# qualitative variables / categorical values\n",
    "\n",
    "gender = ['Male', 'Female', 'Other']\n",
    "\n",
    "answers = ['Yes', 'No']\n",
    "\n"
   ]
  },
  {
   "cell_type": "code",
   "execution_count": null,
   "id": "0a4f57c8",
   "metadata": {},
   "outputs": [],
   "source": [
    "# Quantitative Variables / numeric\n",
    "\n",
    "# numbers\n",
    "\n",
    "price = 1000"
   ]
  },
  {
   "cell_type": "code",
   "execution_count": null,
   "id": "a96750e1",
   "metadata": {},
   "outputs": [],
   "source": [
    "# Quantitative Variables\n",
    "\n",
    "# 1. Discrete\n",
    "- number of cars in a parking\n",
    "- \n",
    "\n",
    "# 2. continuous\n",
    "- 100.5 -> 1000.23\n",
    "\n"
   ]
  }
 ],
 "metadata": {
  "kernelspec": {
   "display_name": "Python 3 (ipykernel)",
   "language": "python",
   "name": "python3"
  },
  "language_info": {
   "codemirror_mode": {
    "name": "ipython",
    "version": 3
   },
   "file_extension": ".py",
   "mimetype": "text/x-python",
   "name": "python",
   "nbconvert_exporter": "python",
   "pygments_lexer": "ipython3",
   "version": "3.9.12"
  }
 },
 "nbformat": 4,
 "nbformat_minor": 5
}
